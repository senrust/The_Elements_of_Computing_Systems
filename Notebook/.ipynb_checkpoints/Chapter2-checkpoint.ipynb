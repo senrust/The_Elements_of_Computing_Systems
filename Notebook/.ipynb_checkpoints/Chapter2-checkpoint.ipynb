{
 "cells": [
  {
   "cell_type": "markdown",
   "metadata": {},
   "source": [
    "### 2.1 2進数\n",
    "符号付き2進数でマイナスを効率よく表現するためは補数表現を使う。先頭ビットはプラスまたはマイナスを表示。\n",
    "\n",
    "マイナスでは、絶対値の2進数表現に対して反対のビットに1を足すことで表現できる。\n",
    "5 (0101) → -5 (1011)"
   ]
  },
  {
   "cell_type": "markdown",
   "metadata": {},
   "source": [
    "### 2.2 加算器\n",
    "２つのビット和を求める半加算器と3つのビット和を求める全加算器"
   ]
  },
  {
   "cell_type": "code",
   "execution_count": null,
   "metadata": {},
   "outputs": [],
   "source": []
  }
 ],
 "metadata": {
  "kernelspec": {
   "display_name": "Python 3",
   "language": "python",
   "name": "python3"
  },
  "language_info": {
   "codemirror_mode": {
    "name": "ipython",
    "version": 3
   },
   "file_extension": ".py",
   "mimetype": "text/x-python",
   "name": "python",
   "nbconvert_exporter": "python",
   "pygments_lexer": "ipython3",
   "version": "3.6.5"
  }
 },
 "nbformat": 4,
 "nbformat_minor": 4
}
