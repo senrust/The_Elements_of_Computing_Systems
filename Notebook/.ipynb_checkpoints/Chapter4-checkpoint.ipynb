{
 "cells": [
  {
   "cell_type": "markdown",
   "metadata": {},
   "source": [
    "### Hack言語のアセンブリについて"
   ]
  },
  {
   "cell_type": "markdown",
   "metadata": {},
   "source": [
    "Dはデータレジスタのみ\n",
    "\n",
    "Aはデータレジスタとアドレスレジスタの両方を入れられる"
   ]
  },
  {
   "cell_type": "markdown",
   "metadata": {},
   "source": [
    "計算を行いたい場合、Aレジスタにアドレスを入れてから、D=M+1とすると、Aレジスタにあるアドレス*Memory[A]-1となる\n",
    "\n",
    "つまり、変数に加算等をしたい場合、@iでAレジスタにアドレスを入れてから、必要な処理(ex: M=M+1)をすると@iの値が1される"
   ]
  },
  {
   "cell_type": "markdown",
   "metadata": {},
   "source": [
    "@foo\n",
    "このとき、Mに変数fooの値、Aにfooのアドレスが入る\n",
    "@12\n",
    "このときはAに12が入る\n",
    "@ptr_A\n",
    "このときMにはptr_Aの値(ポインタ)が入る。\n",
    "\n",
    "そのため\n",
    "@ptr_A\n",
    "A=M\n",
    "M=M+1\n",
    "とすると\n",
    "ptr_Aの指すアドレスの値に1が追加される\n"
   ]
  },
  {
   "cell_type": "code",
   "execution_count": null,
   "metadata": {},
   "outputs": [],
   "source": []
  }
 ],
 "metadata": {
  "kernelspec": {
   "display_name": "Python 3",
   "language": "python",
   "name": "python3"
  },
  "language_info": {
   "codemirror_mode": {
    "name": "ipython",
    "version": 3
   },
   "file_extension": ".py",
   "mimetype": "text/x-python",
   "name": "python",
   "nbconvert_exporter": "python",
   "pygments_lexer": "ipython3",
   "version": "3.6.5"
  }
 },
 "nbformat": 4,
 "nbformat_minor": 4
}
