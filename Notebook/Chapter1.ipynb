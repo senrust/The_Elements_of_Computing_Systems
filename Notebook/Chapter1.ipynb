{
 "cells": [
  {
   "cell_type": "markdown",
   "metadata": {},
   "source": [
    "### 1.1.1 ブール代数\n",
    "ブール関数は真理値表から作成できる。\n",
    "f(x,y,z)のブール関数を作成するには、ブール関数の出力が1となる組み合わせをORで連結し整理してく。"
   ]
  },
  {
   "cell_type": "markdown",
   "metadata": {},
   "source": [
    "基本ブール式(And, Or, Not)はNand式で全て表現できる。(Norでもできる)\n",
    "\n",
    "$$ex: Or = (x\\quad Nand\\quad x)\\quad Nand\\quad (y\\quad Nand\\quad y)$$\n",
    "\n",
    "\n",
    "ブール関数は基本ブール式で表現できることから、Nand式のみで表現できる。つまり、ブール関数もNandの組み合わせで表現できる。"
   ]
  },
  {
   "cell_type": "markdown",
   "metadata": {},
   "source": [
    "### 1.1.2 論理ゲート\n",
    "ゲートはブール関数を実装するための物理デバイス(スイッチング可能なトランジスタからなる)\n",
    "\n",
    "\n",
    "コンピューターサイエンスはブール関数の記述を効率的に行い、ハードウェアエンジニアはそのブール関数を効率的なゲート、回路として実装する。領域の抽象化である。\n",
    "\n"
   ]
  },
  {
   "cell_type": "markdown",
   "metadata": {},
   "source": [
    "### 1.1.4 ハードウェア記述言語(HDL)\n",
    "ハードウェアを作成することなしに、回路を設計することができる。"
   ]
  },
  {
   "cell_type": "code",
   "execution_count": null,
   "metadata": {},
   "outputs": [],
   "source": []
  }
 ],
 "metadata": {
  "kernelspec": {
   "display_name": "Python 3",
   "language": "python",
   "name": "python3"
  },
  "language_info": {
   "codemirror_mode": {
    "name": "ipython",
    "version": 3
   },
   "file_extension": ".py",
   "mimetype": "text/x-python",
   "name": "python",
   "nbconvert_exporter": "python",
   "pygments_lexer": "ipython3",
   "version": "3.6.5"
  }
 },
 "nbformat": 4,
 "nbformat_minor": 2
}
